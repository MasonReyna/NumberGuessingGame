{
 "cells": [
  {
   "cell_type": "code",
   "execution_count": 2,
   "id": "21c50663",
   "metadata": {},
   "outputs": [
    {
     "name": "stdout",
     "output_type": "stream",
     "text": [
      "Welcome to Mason's Number Guessing Game!\n",
      "I am thinking of a number between 1 and 100\n",
      "Enter your guess (1-100) or type 'Quit' to exit:45\n",
      "The Secret Number is Lower\n",
      "Enter your guess (1-100) or type 'Quit' to exit:25\n",
      "The Secret Number is Higher\n",
      "Enter your guess (1-100) or type 'Quit' to exit:30\n",
      "The Secret Number is Higher\n",
      "Enter your guess (1-100) or type 'Quit' to exit:35\n",
      "The Secret Number is Lower\n",
      "Enter your guess (1-100) or type 'Quit' to exit:32\n",
      "The Secret Number is Higher\n",
      "Enter your guess (1-100) or type 'Quit' to exit:33\n",
      "The Secret Number is Higher\n",
      "Enter your guess (1-100) or type 'Quit' to exit:34\n",
      "Congrats! You guessed the Secret Number 34 in 7 attempts!\n"
     ]
    }
   ],
   "source": [
    "import random\n",
    "secret_number = random.randint(1,100)\n",
    "\n",
    "print(\"Welcome to Mason's Number Guessing Game!\")\n",
    "print(\"I am thinking of a number between 1 and 100\")\n",
    "\n",
    "attempts =0\n",
    "while True:\n",
    "    guess=input(\"Enter your guess (1-100) or type 'Quit' to exit:\")\n",
    "    if guess.lower() == 'quit':\n",
    "        print(\"Thanks for playing.The secret number was\", secret_number)\n",
    "        break\n",
    "    try:\n",
    "        guess=int(guess)\n",
    "        attempts +=1\n",
    "        if guess<1 or guess>100:\n",
    "            print(\"Please only enter numbers between 1 and 100\")\n",
    "        elif guess <secret_number:\n",
    "            print(\"The Secret Number is Higher\")\n",
    "        elif guess >secret_number: \n",
    "            print(\"The Secret Number is Lower\")\n",
    "        else:\n",
    "            print(f\"Congrats! You guessed the Secret Number {secret_number} in {attempts} attempts!\")\n",
    "            break\n",
    "    except ValueError: \n",
    "        print(\"Invalid input. Please enter a valid number or type 'Quit'\")\n",
    "            "
   ]
  },
  {
   "cell_type": "code",
   "execution_count": null,
   "id": "dc386887",
   "metadata": {},
   "outputs": [],
   "source": []
  }
 ],
 "metadata": {
  "kernelspec": {
   "display_name": "Python 3 (ipykernel)",
   "language": "python",
   "name": "python3"
  },
  "language_info": {
   "codemirror_mode": {
    "name": "ipython",
    "version": 3
   },
   "file_extension": ".py",
   "mimetype": "text/x-python",
   "name": "python",
   "nbconvert_exporter": "python",
   "pygments_lexer": "ipython3",
   "version": "3.11.4"
  }
 },
 "nbformat": 4,
 "nbformat_minor": 5
}
